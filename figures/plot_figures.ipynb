{
 "cells": [
  {
   "cell_type": "markdown",
   "metadata": {},
   "source": [
    "## Global variables\n",
    "\n",
    "You must manually set two variables:\n",
    "- `save_dir`: Where the figures will be saved\n",
    "- `figures_data_dir`: The absolute path to `idp-design/figures/data/`"
   ]
  },
  {
   "cell_type": "code",
   "execution_count": null,
   "metadata": {},
   "outputs": [],
   "source": [
    "from datetime import date\n",
    "from pathlib import Path\n",
    "\n",
    "save_dir = '/path/to/idp-design/figures/output/' # FIXME (keep the trailing \"/\"!)\n",
    "assert(Path(save_dir)).exists()\n",
    "\n",
    "figures_data_dir = '/path/to/idp-design/figures/data/' # FIXME (keep the trailing \"/\"!)\n",
    "assert(Path(figures_data_dir)).exists()"
   ]
  },
  {
   "cell_type": "markdown",
   "metadata": {},
   "source": [
    "## Libraries"
   ]
  },
  {
   "cell_type": "code",
   "execution_count": null,
   "metadata": {},
   "outputs": [],
   "source": [
    "import matplotlib\n",
    "mpl = matplotlib\n",
    "\n",
    "mpl.rcParams['pdf.fonttype'] = 42\n",
    "mpl.rcParams['ps.fonttype'] = 42\n",
    "\n",
    "mpl.rcParams['figure.figsize'] = (6.0,4.0) # default = (6.0, 4.0)\n",
    "mpl.rcParams['font.size']      = 12       # default = 10\n",
    "\n",
    "mpl.rcParams['axes.linewidth']    = 0.75 # default = 1.0\n",
    "mpl.rcParams['lines.linewidth']   = 1.5 # default = 1.0\n",
    "mpl.rcParams['patch.linewidth']   = 1.0 # default = 1.0\n",
    "mpl.rcParams['grid.linewidth']    = 0.5 # default = 0.5\n",
    "mpl.rcParams['xtick.major.width'] = 1.0 # default = 0.5\n",
    "mpl.rcParams['xtick.minor.width'] = 0.0 # default = 0.5\n",
    "mpl.rcParams['ytick.major.width'] = 1.0 # default = 0.5\n",
    "mpl.rcParams['ytick.minor.width'] = 0.0 # default = 0.5\n",
    "\n",
    "def make_nice_axis(ax):\n",
    "    \"\"\" Function to beautify axis\"\"\"\n",
    "    ax.xaxis.set_ticks_position('bottom')\n",
    "    ax.xaxis.set_tick_params(pad=10,top='on',direction='in')\n",
    "    ax.yaxis.set_tick_params(pad=10,top='on',direction='in')\n",
    "    ax.xaxis.set_tick_params(labelsize=10)\n",
    "    ax.yaxis.set_tick_params(labelsize=10)\n",
    "\n",
    "import seaborn as sns\n",
    "import numpy as np\n",
    "import matplotlib.pyplot as plt\n",
    "plt.rc('font', family='Arial')\n",
    "import pandas as pd\n",
    "import os\n",
    "def save_figure(fig, fig_file):\n",
    "    \"\"\"\n",
    "    Save the given figure object as PDF and PNG formats.\n",
    "\n",
    "    Parameters:\n",
    "    fig (matplotlib.figure.Figure): The figure object to be saved.\n",
    "    fig_file (str): The file path (including the file name without extension) where the figure will be saved.\n",
    "\n",
    "    Returns:\n",
    "    None\n",
    "    \"\"\"\n",
    "    os.makedirs(os.path.dirname(fig_file), exist_ok=True)\n",
    "    fig.savefig(fname=fig_file + \".pdf\", dpi=300, format='pdf',bbox_inches='tight')\n",
    "    fig.savefig(fname=fig_file + \".png\", dpi=1200, format='png')"
   ]
  },
  {
   "cell_type": "code",
   "execution_count": null,
   "metadata": {},
   "outputs": [],
   "source": [
    "# Define a dictionary of colors for the amino acids with slightly different shades\n",
    "aa_colors = {\n",
    "    # Blue residues\n",
    "    'R': '#0000FF',  # Arginine (blue)\n",
    "    'H': '#1E90FF',  # Histidine (dodger blue)\n",
    "    'K': '#4169E1',  # Lysine (royal blue)\n",
    "\n",
    "    # Red residues\n",
    "    'D': '#FF0000',  # Aspartic acid (red)\n",
    "    'E': '#FF6347',  # Glutamic acid (tomato)\n",
    "\n",
    "    # Purple residues\n",
    "    'N': '#FF1493',  # Asparagine (thistle)\n",
    "    'Q': '#FFB6C1',  # Glutamine (medium purple)\n",
    "\n",
    "    # Black-grey residues\n",
    "    'I': '#333333',  # Isoleucine (dark grey)\n",
    "    'L': '#666666',  # Leucine (grey)\n",
    "    'P': '#999999',  # Proline (light grey)\n",
    "    'V': '#000000',  # Valine (black)\n",
    "    'M': '#4D4D4D',  # Methionine (medium grey)\n",
    "    'A': '#2F4F4F',  # Alanine (dark slate grey)\n",
    "\n",
    "    # Green residues\n",
    "    'C': '#00FF00',  # Cysteine (lime)\n",
    "    'S': '#66FF66',  # Serine (light green)\n",
    "    'T': '#99FF99',  # Threonine (pale green)\n",
    "    'G': '#32CD32',  # Glycine (lime green)\n",
    "\n",
    "    # Brown residues\n",
    "    'F': '#A52A2A',  # Phenylalanine (brown)\n",
    "    'W': '#8B4513',  # Tryptophan (saddle brown)\n",
    "    'Y': '#5D3A1A',  # Tyrosine (dark brown)\n",
    "}\n",
    "\n",
    "cb_colors_dark = ['#1b9e77','#d95f02','#7570b3','#e7298a','#66a61e','#e6ab02','#a6761d','#666666']\n",
    "cb_colors_pastel = ['#8dd3c7','#ffffb3','#bebada','#fb8072','#80b1d3','#fdb462','#b3de69','#fccde5']"
   ]
  },
  {
   "cell_type": "markdown",
   "metadata": {},
   "source": [
    "# Replotting jax-idp figures"
   ]
  },
  {
   "cell_type": "markdown",
   "metadata": {},
   "source": [
    "## Figure 2"
   ]
  },
  {
   "cell_type": "markdown",
   "metadata": {},
   "source": [
    "#### Convergence/entropy plots"
   ]
  },
  {
   "cell_type": "code",
   "execution_count": null,
   "metadata": {},
   "outputs": [],
   "source": [
    "path_to_fig2b_data = figures_data_dir + 'fig2/rg20_opt/fig2b.csv'\n",
    "fig2b_data = pd.read_csv(path_to_fig2b_data)"
   ]
  },
  {
   "cell_type": "code",
   "execution_count": null,
   "metadata": {},
   "outputs": [],
   "source": [
    "fig, ax = plt.subplots(1,1,figsize=(4,3))\n",
    "make_nice_axis(ax)\n",
    "# ax.scatter(range(50),fig2b_data['rg'],s=10,c='grey',alpha=.75, edgecolors='none')\n",
    "\n",
    "ax.hlines(20.0,0,50,linestyles=(0,(5,5)),color='grey',label='target',lw=1.0)\n",
    "ax.plot(fig2b_data['rg'],c='k',label='simulation')\n",
    "\n",
    "ax.scatter(range(50)[0],fig2b_data['rg'][0],s=50,c=cb_colors_dark[3],alpha=1.0, edgecolors='none',marker='o')\n",
    "ax.scatter(range(50)[49],fig2b_data['rg'][49],s=50,c=cb_colors_dark[3],alpha=1.0, edgecolors='none',marker='s')\n",
    "ax.scatter(range(50)[25],fig2b_data['rg'][25],s=50,c=cb_colors_dark[3],alpha=1.0, edgecolors='none',marker='^')\n",
    "\n",
    "ax.set_xlabel('Iteration')\n",
    "ax.set_ylabel('$R_g$ ($\\\\AA$)')\n",
    "ax.legend(bbox_to_anchor=(1.01,1),frameon=False,fontsize=10)\n",
    "plt.tight_layout()\n",
    "fig_save = True\n",
    "fig_name = 'fig2b/rg'\n",
    "if fig_save:\n",
    "    print(save_dir +  fig_name)\n",
    "    save_figure(fig, fig_file=save_dir+fig_name)\n",
    "plt.show()"
   ]
  },
  {
   "cell_type": "code",
   "execution_count": null,
   "metadata": {},
   "outputs": [],
   "source": [
    "fig, ax = plt.subplots(1,1,figsize=(4,3))\n",
    "make_nice_axis(ax)\n",
    "ax.hlines(20.0,0,50,linestyles=(0,(5,5)),color='grey',label='target',lw=1.0)\n",
    "ax.plot(fig2b_data['rg'],c='k',label='simulation')\n",
    "ax.plot(fig2b_data['alba_rg'],c=cb_colors_dark[0],label='albatross')\n",
    "ax.set_xlabel('Iteration')\n",
    "ax.set_ylabel('$R_g$ ($\\\\AA$)')\n",
    "ax.legend(bbox_to_anchor=(1.01,1),frameon=False,fontsize=10)\n",
    "plt.tight_layout()\n",
    "fig_save = True\n",
    "fig_name = 'fig2b/rg_alba'\n",
    "if fig_save:\n",
    "    print(save_dir +  fig_name)\n",
    "    save_figure(fig, fig_file=save_dir+fig_name)\n",
    "plt.show()"
   ]
  },
  {
   "cell_type": "code",
   "execution_count": null,
   "metadata": {},
   "outputs": [],
   "source": [
    "fig, ax = plt.subplots(1,1,figsize=(4,1.5))\n",
    "make_nice_axis(ax)\n",
    "ax.plot(fig2b_data['entropy'],c='k')\n",
    "ax.scatter(range(50)[0],fig2b_data['entropy'][0],s=50,c=cb_colors_dark[3],alpha=1.0, edgecolors='none',marker='o')\n",
    "ax.scatter(range(50)[49],fig2b_data['entropy'][49],s=50,c=cb_colors_dark[3],alpha=1.0, edgecolors='none',marker='s')\n",
    "ax.scatter(range(50)[25],fig2b_data['entropy'][25],s=50,c=cb_colors_dark[3],alpha=1.0, edgecolors='none',marker='^')\n",
    "\n",
    "ax.set_xlabel('Iteration')\n",
    "ax.set_ylabel('Entropy')\n",
    "ax.set_ylim(-0.02,0.175)\n",
    "plt.tight_layout()\n",
    "fig_save = False\n",
    "fig_name = 'fig2b/entropy'\n",
    "if fig_save:\n",
    "    print(save_dir +  fig_name)\n",
    "    save_figure(fig, fig_file=save_dir+fig_name)\n",
    "plt.show()"
   ]
  },
  {
   "cell_type": "markdown",
   "metadata": {},
   "source": [
    "#### Sequence iteration "
   ]
  },
  {
   "cell_type": "code",
   "execution_count": null,
   "metadata": {},
   "outputs": [],
   "source": [
    "import logomaker"
   ]
  },
  {
   "cell_type": "code",
   "execution_count": null,
   "metadata": {},
   "outputs": [],
   "source": [
    "pseq_0 = figures_data_dir + 'fig2/rg20_opt/pseq/pseq_i0.npy'\n",
    "pseq_25 = figures_data_dir + 'fig2/rg20_opt/pseq/pseq_i25.npy'\n",
    "pseq_49 = figures_data_dir + 'fig2/rg20_opt/pseq/pseq_i49.npy'\n",
    "\n",
    "residues = [x for x in 'MGKTRADEYVLQWFSHNPCI']\n",
    "seq_0 = pd.DataFrame(np.load(pseq_0),columns=residues)\n",
    "seq_25 = pd.DataFrame(np.load(pseq_25),columns=residues)\n",
    "seq_49 = pd.DataFrame(np.load(pseq_49),columns=residues)\n",
    "\n",
    "aa_order = list('RHKDEAILPVMNQTGSCYWF')\n",
    "seq_0_rearranged = seq_0[aa_order]\n",
    "seq_25_rearranged = seq_25[aa_order]\n",
    "seq_49_rearranged = seq_49[aa_order]"
   ]
  },
  {
   "cell_type": "code",
   "execution_count": null,
   "metadata": {},
   "outputs": [],
   "source": [
    "fig, ax = plt.subplots(3,1,figsize=(4,2))\n",
    "for axis in ax:\n",
    "    make_nice_axis(axis)\n",
    "logomaker.Logo(seq_0_rearranged,ax=ax[0],color_scheme=aa_colors, vpad=.2, width=.6,stack_order='small_on_top')\n",
    "logomaker.Logo(seq_25_rearranged,ax=ax[1],color_scheme=aa_colors, vpad=.2, width=.6,stack_order='small_on_top')\n",
    "logomaker.Logo(seq_49_rearranged,ax=ax[2],color_scheme=aa_colors, vpad=.2, width=.6,stack_order='small_on_top')\n",
    "iters = [0,25,49]\n",
    "\n",
    "for axis in ax:\n",
    "    # axis.set_xlim(-1,50)\n",
    "    axis.set_xticks([])  # Remove x-axis ticks\n",
    "    axis.set_xlabel('')  # Remove x-axis labels\n",
    "    axis.set_yticks([])  # Remove x-axis ticks\n",
    "    axis.set_ylabel('')  # Remove x-axis labels    # axis.set_title('Iteration {}'.format(iters[ax.tolist().index(axis)]),fontsize=10)\n",
    "# Adjust spacing between subplots\n",
    "plt.subplots_adjust(hspace=0.5)  # Adjust hspace to control vertical spacing\n",
    "\n",
    "plt.tight_layout()\n",
    "fig_save = True\n",
    "fig_name = 'fig2b/seqlogos'\n",
    "if fig_save:\n",
    "    print(save_dir +  fig_name)\n",
    "    save_figure(fig, fig_file=save_dir+fig_name)\n",
    "plt.show()"
   ]
  },
  {
   "cell_type": "markdown",
   "metadata": {},
   "source": [
    "#### Plot compositional fraction plots"
   ]
  },
  {
   "cell_type": "code",
   "execution_count": null,
   "metadata": {},
   "outputs": [],
   "source": [
    "# Colors for each AA (20 colors)\n",
    "colors = [aa_colors[aa] for aa in seq_0_rearranged.columns.values]\n",
    "\n",
    "\n",
    "# Define the groups of residues by color\n",
    "blue_residues = 'R/H/K'\n",
    "red_residues = 'D/E'\n",
    "black_grey_residues = 'A/I/L/P/V/M'\n",
    "purple_residues = 'N/Q'\n",
    "green_residues = 'C/S/T/G'\n",
    "brown_residues = 'F/W/Y'\n",
    "\n",
    "# Create the figure and axes\n",
    "fig, axs = plt.subplots(3, 1, figsize=(8, 6))\n",
    "\n",
    "# List of sequences\n",
    "sequences = [seq_0_rearranged, seq_25_rearranged, seq_49_rearranged]\n",
    "\n",
    "# Plot each sequence as a stacked bar\n",
    "for ax, seq in zip(axs, sequences):\n",
    "    bottom = np.zeros(seq.shape[0])\n",
    "    for i in range(seq.shape[1]):\n",
    "        ax.bar(np.arange(1,seq.shape[0]+1), seq.values[:, i], width=0.5, color=colors[i], bottom=bottom, align='center')\n",
    "        bottom += seq.values[:, i]\n",
    "    ax.set_yticks([0,1])  # Remove y-axis ticks\n",
    "for ax in axs[:-1]:\n",
    "    ax.set_xticks([])  # Remove x-axis ticks\n",
    "    ax.set_xlabel('')  # Remove x-axis labels\n",
    "\n",
    "for ax in axs[-1:]:\n",
    "    ax.set_xticks([1,25,50])\n",
    "# Add text annotations for the groups of residues\n",
    "y_positions = [0.9, 0.8, 0.7, 0.6, 0.5, 0.4]\n",
    "residue_groups = [blue_residues, red_residues, black_grey_residues,purple_residues, green_residues, brown_residues]\n",
    "\n",
    "for ax in axs:\n",
    "    for y_pos, residues in zip(y_positions, residue_groups):\n",
    "        x_pos = 1.05\n",
    "        for residue in residues.split('/'):\n",
    "            ax.text(x_pos, y_pos, residue, transform=ax.transAxes, fontsize=10, color=aa_colors[residue])\n",
    "            x_pos += 0.025  # Adjust spacing between residues\n",
    "\n",
    "# Adjust layout and show the plot\n",
    "plt.tight_layout()\n",
    "\n",
    "fig_save = True\n",
    "fig_name = 'fig2b/seqlogos_composition'\n",
    "if fig_save:\n",
    "    print(save_dir +  fig_name)\n",
    "    save_figure(fig, fig_file=save_dir+fig_name)\n",
    "plt.show()\n"
   ]
  },
  {
   "cell_type": "markdown",
   "metadata": {},
   "source": [
    "### Range of Ree/Rgs"
   ]
  },
  {
   "cell_type": "markdown",
   "metadata": {},
   "source": [
    "#### mpipi-comparison"
   ]
  },
  {
   "cell_type": "code",
   "execution_count": null,
   "metadata": {},
   "outputs": [],
   "source": [
    "path_to_fig3a_data = figures_data_dir +  'fig3/rg_checks.csv'\n",
    "path_to_fig3a_data_ree = figures_data_dir + 'fig3/ree_checks.csv'\n",
    "fig3a_data = pd.read_csv(path_to_fig3a_data)\n",
    "fig3a_data['percentages'] = 100* (fig3a_data['calc_rgs'].values - fig3a_data['target'].values)/(fig3a_data['target'].values)\n",
    "n50_values = fig3a_data[fig3a_data['n']==50].values\n",
    "n50_values = n50_values[np.argsort(n50_values[:,1])][:-2,:]\n",
    "n75_values = fig3a_data[fig3a_data['n']==75].values\n",
    "n75_values = n75_values[np.argsort(n75_values[:,1])][:-2,:]\n",
    "\n",
    "fig3a_data_ree = pd.read_csv(path_to_fig3a_data_ree)\n",
    "fig3a_data_ree['percentages'] = 100* (fig3a_data_ree['calc_rees'].values - fig3a_data_ree['target'].values)/(fig3a_data_ree['target'].values)\n",
    "n50_values_ree = fig3a_data_ree[fig3a_data_ree['n']==50].values\n",
    "n50_values_ree = n50_values_ree[np.argsort(n50_values_ree[:,1])][2:,:]\n",
    "n75_values_ree = fig3a_data_ree[fig3a_data_ree['n']==75].values\n",
    "n75_values_ree = n75_values_ree[np.argsort(n75_values_ree[:,1])][2:,:]"
   ]
  },
  {
   "cell_type": "code",
   "execution_count": null,
   "metadata": {},
   "outputs": [],
   "source": [
    "scale = False\n",
    "scale_50 = np.sqrt(50)*3.81\n",
    "scale_75 = np.sqrt(75)*3.81\n",
    "\n",
    "\n",
    "if not scale:\n",
    "    scale_50 = 1\n",
    "    scale_75 = 1\n",
    "fig, axis = plt.subplots(1,2,figsize=(5,3))\n",
    "for ax in axis:\n",
    "    make_nice_axis(ax) \n",
    "\n",
    "axis[0].scatter(n50_values[:,1]/scale_50,n50_values[:,2]/scale_50,s=25,c='k', edgecolors='none',label='n=50')\n",
    "axis[0].scatter(n75_values[:,1]/scale_75,n75_values[:,2]/scale_75,s=25,c='grey', edgecolors='none',label='n=75',marker='x')\n",
    "axis[0].plot(np.arange(10,58),np.arange(10,58),c='grey',ls='--',lw=0.5)\n",
    "\n",
    "axis[1].scatter(n50_values_ree[:,1]/scale_50,n50_values_ree[:,2]/scale_50,s=25,c='k', edgecolors='none',label='n=50')\n",
    "axis[1].scatter(n75_values_ree[:,1]/scale_75,n75_values_ree[:,2]/scale_75,s=25,c='grey', edgecolors='none',label='n=75',marker='x')\n",
    "axis[1].plot(np.arange(15,77),np.arange(15,77),c='grey',ls='--',lw=0.5)\n",
    "\n",
    "axis[0].set_xlabel('Target $R_g$ ($\\\\AA$)')\n",
    "axis[0].set_ylabel('Predicted $R_g$ ($\\\\AA$)')\n",
    "\n",
    "axis[1].set_xlabel('Target $R_{ee}$ ($\\\\AA$)')\n",
    "axis[1].set_ylabel('Predicted $R_{ee}$ ($\\\\AA$)')\n",
    "axis[0].legend(frameon=False,fontsize=10)\n",
    "axis[1].legend(frameon=False,fontsize=10)\n",
    "plt.tight_layout()\n",
    "fig_save = True\n",
    "fig_name = 'fig3a/rg_ree_mpipi_preds_2panels'\n",
    "if fig_save:\n",
    "    print(save_dir +  fig_name)\n",
    "    save_figure(fig, fig_file=save_dir+fig_name)\n",
    "plt.show()"
   ]
  },
  {
   "cell_type": "markdown",
   "metadata": {},
   "source": [
    "#### HPS-comparison"
   ]
  },
  {
   "cell_type": "code",
   "execution_count": null,
   "metadata": {},
   "outputs": [],
   "source": [
    "path_to_fig3a_data = figures_data_dir + 'fig3/rg_checks_hps.csv'\n",
    "path_to_fig3a_data_ree = figures_data_dir + 'fig3/ree_checks_hps.csv'\n",
    "fig3a_data = pd.read_csv(path_to_fig3a_data)\n",
    "fig3a_data['percentages'] = 100* (fig3a_data['calc_rgs'].values - fig3a_data['target'].values)/(fig3a_data['target'].values)\n",
    "n50_values = fig3a_data[fig3a_data['n']==50].values\n",
    "n50_values = n50_values[np.argsort(n50_values[:,1])][2:-4,:]\n",
    "n75_values = fig3a_data[fig3a_data['n']==75].values\n",
    "n75_values = n75_values[np.argsort(n75_values[:,1])][:-1,:]\n",
    "\n",
    "fig3a_data_ree = pd.read_csv(path_to_fig3a_data_ree)\n",
    "fig3a_data_ree['percentages'] = 100* (fig3a_data_ree['calc_rees'].values - fig3a_data_ree['target'].values)/(fig3a_data_ree['target'].values)\n",
    "n50_values_ree = fig3a_data_ree[fig3a_data_ree['n']==50].values\n",
    "n50_values_ree = n50_values_ree[np.argsort(n50_values_ree[:,1])][3:,:][::2]\n",
    "n75_values_ree = fig3a_data_ree[fig3a_data_ree['n']==75].values\n",
    "n75_values_ree = n75_values_ree[np.argsort(n75_values_ree[:,1])][3:,:][::2]"
   ]
  },
  {
   "cell_type": "code",
   "execution_count": null,
   "metadata": {},
   "outputs": [],
   "source": [
    "scale = False\n",
    "scale_50 = np.sqrt(50)*3.81\n",
    "scale_75 = np.sqrt(75)*3.81\n",
    "\n",
    "\n",
    "if not scale:\n",
    "    scale_50 = 1\n",
    "    scale_75 = 1\n",
    "fig, axis = plt.subplots(1,2,figsize=(5,3))\n",
    "for ax in axis:\n",
    "    make_nice_axis(ax) \n",
    "\n",
    "axis[0].scatter(n50_values[:,1]/scale_50,n50_values[:,2]/scale_50,s=25,c='k', edgecolors='none',label='n=50')\n",
    "axis[0].scatter(n75_values[:,1]/scale_75,n75_values[:,2]/scale_75,s=25,c='grey', edgecolors='none',label='n=75',marker='x')\n",
    "axis[0].plot(np.arange(10,50),np.arange(10,50),c='grey',ls='--',lw=0.5)\n",
    "\n",
    "axis[1].scatter(n50_values_ree[:,1]/scale_50,n50_values_ree[:,2]/scale_50,s=25,c='k', edgecolors='none',label='n=50')\n",
    "axis[1].scatter(n75_values_ree[:,1]/scale_75,n75_values_ree[:,2]/scale_75,s=25,c='grey', edgecolors='none',label='n=75',marker='x')\n",
    "axis[1].plot(np.arange(15,120),np.arange(15,120),c='grey',ls='--',lw=0.5)\n",
    "\n",
    "axis[0].set_xlabel('Target $R_g$ ($\\\\AA$)')\n",
    "axis[0].set_ylabel('Predicted $R_g$ ($\\\\AA$)')\n",
    "\n",
    "axis[1].set_xlabel('Target $R_{ee}$ ($\\\\AA$)')\n",
    "axis[1].set_ylabel('Predicted $R_{ee}$ ($\\\\AA$)')\n",
    "axis[0].legend(frameon=False,fontsize=10)\n",
    "axis[1].legend(frameon=False,fontsize=10)\n",
    "plt.tight_layout()\n",
    "fig_save = True\n",
    "fig_name = 'fig3a/rg_ree_hps_preds_2panels'\n",
    "if fig_save:\n",
    "    print(save_dir +  fig_name)\n",
    "    save_figure(fig, fig_file=save_dir+fig_name)\n",
    "plt.show()"
   ]
  },
  {
   "cell_type": "markdown",
   "metadata": {},
   "source": [
    "#### ALBA disagree"
   ]
  },
  {
   "cell_type": "code",
   "execution_count": null,
   "metadata": {},
   "outputs": [],
   "source": [
    "path_to_fig_3a_alba= figures_data_dir + 'fig3/alba-disagree/n50-rg32.5/plotting_data.csv'\n",
    "fig3a_alba = pd.read_csv(path_to_fig_3a_alba)"
   ]
  },
  {
   "cell_type": "code",
   "execution_count": null,
   "metadata": {},
   "outputs": [],
   "source": [
    "fig, ax = plt.subplots(1,1,figsize=(5,3))\n",
    "make_nice_axis(ax)\n",
    "ax.plot(fig3a_alba['iter'],fig3a_alba['rg'],c='k',label='simulation')\n",
    "ax.plot(fig3a_alba['iter'],fig3a_alba['alba_rg'],c=cb_colors_dark[0],label='albatross')\n",
    "ax.hlines(32.5,0,100,linestyles=(0,(5,5)),color='grey',label='target',lw=1.0)\n",
    "ax.set_xlabel('Iteration')\n",
    "ax.set_ylabel('$R_g$ ($\\\\AA$)')\n",
    "ax.legend(bbox_to_anchor=(1,0.5),frameon=False,fontsize=10)\n",
    "plt.tight_layout()\n",
    "fig_save = True\n",
    "fig_name = 'fig3a/rg_alba_disagree'\n",
    "if fig_save:\n",
    "    print(save_dir +  fig_name)\n",
    "    save_figure(fig, fig_file=save_dir+fig_name)\n",
    "plt.show()"
   ]
  },
  {
   "cell_type": "markdown",
   "metadata": {},
   "source": [
    "## Figure 3"
   ]
  },
  {
   "cell_type": "markdown",
   "metadata": {},
   "source": [
    "### Loop solutions"
   ]
  },
  {
   "cell_type": "code",
   "execution_count": null,
   "metadata": {},
   "outputs": [],
   "source": [
    "path_to_fig3_loop_mutations =  figures_data_dir + 'fig3/loop/mutations/mutation_data.csv'\n",
    "fig3_loop_mutations = pd.read_csv(path_to_fig3_loop_mutations)\n",
    "conditions = ['WT','P>A','R>A','W>A','Y>A','WY>A','W>Y','Y>W']"
   ]
  },
  {
   "cell_type": "code",
   "execution_count": null,
   "metadata": {},
   "outputs": [],
   "source": [
    "fig, ax = plt.subplots(1,1,figsize=(4,2))\n",
    "make_nice_axis(ax)\n",
    "# ax.scatter(n50_values[:,1],n50_values[:,2],s=25,c=cb_colors_dark[0], edgecolors='none',label='n=50')\n",
    "ax.scatter(conditions,fig3_loop_mutations.values[:,-1],c='k')\n",
    "# ax.set_xlabel('Target $R_g$ ($\\\\AA$)')\n",
    "ax.set_ylim((-10,100))\n",
    "ax.set_ylabel('% change in loss')\n",
    "# ax.legend(frameon=False,fontsize=10)\n",
    "plt.tight_layout()\n",
    "fig_save = True\n",
    "fig_name = 'fig3c/loop_mutations'\n",
    "if fig_save:\n",
    "    print(save_dir +  fig_name)\n",
    "    save_figure(fig, fig_file=save_dir+fig_name)\n",
    "plt.show()"
   ]
  },
  {
   "cell_type": "markdown",
   "metadata": {},
   "source": [
    "### Linker solutions"
   ]
  },
  {
   "cell_type": "code",
   "execution_count": null,
   "metadata": {},
   "outputs": [],
   "source": [
    "path_to_fig3_linker_mutations = figures_data_dir + 'fig3/linker/mutations/mutation_data.csv'\n",
    "fig3_linker_mutations = pd.read_csv(path_to_fig3_linker_mutations)\n",
    "conditions = ['WT','K>A','N>A','P>A','R>A','K>R','R>K']"
   ]
  },
  {
   "cell_type": "code",
   "execution_count": null,
   "metadata": {},
   "outputs": [],
   "source": [
    "fig, ax = plt.subplots(1,1,figsize=(4,2))\n",
    "make_nice_axis(ax)\n",
    "# ax.scatter(n50_values[:,1],n50_values[:,2],s=25,c=cb_colors_dark[0], edgecolors='none',label='n=50')\n",
    "ax.scatter(conditions,fig3_linker_mutations.values[:,-1],c='k')\n",
    "# ax.set_xlabel('Target $R_g$ ($\\\\AA$)')\n",
    "ax.set_ylim((-40,60))\n",
    "ax.set_ylabel('% change in loss')\n",
    "# ax.legend(frameon=False,fontsize=10)\n",
    "plt.tight_layout()\n",
    "fig_save = True\n",
    "fig_name = 'fig3c/linker_mutations'\n",
    "if fig_save:\n",
    "    print(save_dir +  fig_name)\n",
    "    save_figure(fig, fig_file=save_dir+fig_name)\n",
    "plt.show()"
   ]
  },
  {
   "cell_type": "markdown",
   "metadata": {},
   "source": [
    "### Loop/linker contact frequencies"
   ]
  },
  {
   "cell_type": "code",
   "execution_count": null,
   "metadata": {},
   "outputs": [],
   "source": [
    "file_fig_loop_contact = figures_data_dir + 'fig3/loop/contact_map_distances.npy'\n",
    "fig3_loop_contacts =np.load(file_fig_loop_contact)\n",
    "fig3_ideal_normalization = np.zeros_like(fig3_loop_contacts)\n",
    "for i in range(fig3_loop_contacts.shape[0]):\n",
    "    for j in range(fig3_loop_contacts.shape[1]):\n",
    "            fig3_ideal_normalization[i, j] = 3.81*np.abs(i - j) ** 0.5\n",
    "            fig3_ideal_normalization[j, i] = 3.81*np.abs(i - j) ** 0.5\n"
   ]
  },
  {
   "cell_type": "code",
   "execution_count": null,
   "metadata": {},
   "outputs": [],
   "source": [
    "sequence = 'WWWYYFLLIIIIRRRERPPRRPRRRRRPRRRPRRPPRWWHWHHHHHFYWW'\n",
    "\n",
    "fig, ax = plt.subplots(1,1,figsize=(4,3))\n",
    "make_nice_axis(ax)\n",
    "f = ax.imshow(np.log2(fig3_ideal_normalization/fig3_loop_contacts),cmap='coolwarm',vmin=-1.5,vmax=1.5)\n",
    "cbar2= fig.colorbar(f,ax=ax,fraction=0.046, pad=0.04)\n",
    "cbar2.set_ticks([-1, 0, 1])  # Set colorbar ticks\n",
    "ax.set_title('$IDP_{loop}$')  # Add title to the second plot\n",
    "\n",
    "cbar2.set_label(r'$\\log_2(\\mathrm{obs/exp})$', labelpad=10)\n",
    "\n",
    "\n",
    "# Remove the default tick labels\n",
    "ax.set_xticklabels([])\n",
    "ax.set_yticklabels([])\n",
    "# Remove the tick marks\n",
    "ax.tick_params(axis='both', which='both', length=0)\n",
    "\n",
    "\n",
    "plt.tight_layout()\n",
    "fig_save = True\n",
    "fig_name = 'fig3c/loop_contact_frequency_normalized'\n",
    "if fig_save:\n",
    "    print(save_dir +  fig_name)\n",
    "    save_figure(fig, fig_file=save_dir+fig_name)\n",
    "plt.show()"
   ]
  },
  {
   "cell_type": "code",
   "execution_count": null,
   "metadata": {},
   "outputs": [],
   "source": [
    "file_fig_linker_contact = figures_data_dir + 'fig3/linker/contact_map_distances.npy'\n",
    "fig3_linker_contacts =np.load(file_fig_linker_contact)\n",
    "fig3_ideal_normalization = np.zeros_like(fig3_linker_contacts)\n",
    "for i in range(fig3_linker_contacts.shape[0]):\n",
    "    for j in range(fig3_linker_contacts.shape[1]):\n",
    "            fig3_ideal_normalization[i, j] = 3.81*np.abs(i - j) ** 0.5\n",
    "            fig3_ideal_normalization[j, i] = 3.81*np.abs(i - j) ** 0.5\n"
   ]
  },
  {
   "cell_type": "code",
   "execution_count": null,
   "metadata": {},
   "outputs": [],
   "source": [
    "sequence = 'RRPRRPPRRPPRRRKKKKKKKKGKGGKNKKKGKGKKRRPPRRPPRRPPRR'\n",
    "\n",
    "fig, ax = plt.subplots(1,1,figsize=(4,3))\n",
    "make_nice_axis(ax)\n",
    "f = ax.imshow(np.log2(fig3_ideal_normalization/fig3_linker_contacts),cmap='coolwarm',vmin=-1.5,vmax=1.5)\n",
    "cbar2= fig.colorbar(f,ax=ax,fraction=0.046, pad=0.04)\n",
    "cbar2.set_ticks([-1, 0, 1])  # Set colorbar ticks\n",
    "ax.set_title('$IDP_{linker}$')  # Add title to the second plot\n",
    "\n",
    "cbar2.set_label(r'$\\log_2(\\mathrm{obs/exp})$', labelpad=10)\n",
    "\n",
    "\n",
    "# Remove the default tick labels\n",
    "ax.set_xticklabels([])\n",
    "ax.set_yticklabels([])\n",
    "# Remove the tick marks\n",
    "ax.tick_params(axis='both', which='both', length=0)\n",
    "\n",
    "\n",
    "plt.tight_layout()\n",
    "fig_save = True\n",
    "fig_name = 'fig3c/linker_contact_frequency_normalized'\n",
    "if fig_save:\n",
    "    print(save_dir +  fig_name)\n",
    "    save_figure(fig, fig_file=save_dir+fig_name)\n",
    "plt.show()"
   ]
  },
  {
   "cell_type": "markdown",
   "metadata": {},
   "source": [
    "### Example Arc-plot style visualization of loop interaction frequecies"
   ]
  },
  {
   "cell_type": "code",
   "execution_count": null,
   "metadata": {},
   "outputs": [],
   "source": [
    "# Example data\n",
    "sequence = 'WWWYYFLLIIIIRRRERPPRRPRRRRRPRRRPRRPPRWWHWHHHHHFYWW'\n",
    "\n",
    "L = 50  # Length of the vector\n",
    "vector = np.arange(L)\n",
    "contacts =fig3_ideal_normalization/fig3_loop_contacts  # Random contact frequencies for demonstration\n",
    "contacts = np.nan_to_num(contacts,nan=1.0)\n",
    "# Create the figure and axis\n",
    "fig, ax = plt.subplots(figsize=(8,3))\n",
    "\n",
    "# Plot the vector as letters\n",
    "for i in range(L):\n",
    "    ax.text(i+1, 0, sequence[i], fontsize=11, color=aa_colors[sequence[i]], ha='center', va='center')\n",
    "\n",
    "\n",
    "thresh = 1.5\n",
    "\n",
    "# Draw parabolic arcs for contact frequencies\n",
    "for i in range(L):\n",
    "    for j in range(i + 1, L):\n",
    "        if contacts[i, j] >= thresh:  # Threshold for drawing arcs\n",
    "            x = np.linspace(i, j, 100)\n",
    "            y = 0.4*(x - i) * (j - x) / ((j - i) / 2) ** 2  # Parabolic shape\n",
    "            ax.plot(x+1, y+0.05, color='black', alpha=0.25*contacts[i, j]/ np.max(contacts), linewidth=1)\n",
    "\n",
    "# Set labels and title\n",
    "ax.set_ylim((-0.02,0.5))\n",
    "\n",
    "# Hide y-axis\n",
    "ax.get_yaxis().set_visible(False)\n",
    "\n",
    "# Remove x-ticks and labels\n",
    "ax.set_xticks([])\n",
    "ax.set_xticklabels([])\n",
    "\n",
    "# Remove the bounding plot box\n",
    "ax.spines['top'].set_visible(False)\n",
    "ax.spines['right'].set_visible(False)\n",
    "ax.spines['left'].set_visible(False)\n",
    "ax.spines['bottom'].set_visible(False)\n",
    "\n",
    "\n",
    "plt.tight_layout()\n",
    "fig_save = True\n",
    "fig_name = 'fig3c/loop_enriched_contacts_{}'.format(thresh)\n",
    "if fig_save:\n",
    "    print(save_dir +  fig_name)\n",
    "    save_figure(fig, fig_file=save_dir+fig_name)\n",
    "# Show the plot\n",
    "plt.show()"
   ]
  },
  {
   "cell_type": "markdown",
   "metadata": {},
   "source": [
    "### Plot the loss function"
   ]
  },
  {
   "cell_type": "code",
   "execution_count": null,
   "metadata": {},
   "outputs": [],
   "source": [
    "fig, ax = plt.subplots(1,1,figsize=(3,2))\n",
    "make_nice_axis(ax)\n",
    "# Define the text with LaTeX formatting\n",
    "text1 = r'$\\mathcal{L}_{\\text{loop}} = \\frac{R_{ee}}{\\sqrt{6}} - R_g$'\n",
    "text2 = r'$\\mathcal{L}_{\\text{linker}} = R_g - \\frac{R_{ee}}{\\sqrt{6}}$'\n",
    "\n",
    "# Plot the text on the figure\n",
    "ax.text(0.5, 0.7, text1, fontsize=14, ha='center', va='center')\n",
    "ax.text(0.5, 0.3, text2, fontsize=14, ha='center', va='center')\n",
    "\n",
    "# Remove axes\n",
    "ax.axis('off')\n",
    "\n",
    "plt.tight_layout()\n",
    "fig_save = True\n",
    "fig_name = 'fig3c/linker_loop_loss_text'\n",
    "if fig_save:\n",
    "    print(save_dir +  fig_name)\n",
    "    save_figure(fig, fig_file=save_dir+fig_name)\n",
    "plt.show()"
   ]
  },
  {
   "cell_type": "markdown",
   "metadata": {},
   "source": [
    "## Figure 4"
   ]
  },
  {
   "cell_type": "markdown",
   "metadata": {},
   "source": [
    "### Constraining disorder"
   ]
  },
  {
   "cell_type": "markdown",
   "metadata": {},
   "source": [
    "### disordered constraint"
   ]
  },
  {
   "cell_type": "code",
   "execution_count": null,
   "metadata": {},
   "outputs": [],
   "source": [
    "file_fig4_overparam = figures_data_dir +  'fig4/n50-rg12.5-0.2-0.8/plot_data.csv'\n",
    "data_fig4_overparam = pd.read_csv(file_fig4_overparam)"
   ]
  },
  {
   "cell_type": "code",
   "execution_count": null,
   "metadata": {},
   "outputs": [],
   "source": [
    "fig,ax = plt.subplots(1,1,figsize=(4,3))\n",
    "make_nice_axis(ax)\n",
    "ax.plot(data_fig4_overparam['iter'],data_fig4_overparam['rg'],c='k',label='simulation')\n",
    "# ax.scatter(data_fig4_overparam['iter'],data_fig4_overparam['rg'],s=10,c='grey',alpha=.75, edgecolors='none')\n",
    "ax.hlines(12.5,0,150,linestyles=(0,(5,5)),color='grey',label='target',lw=1.0)\n",
    "ax.set_xlabel('Iteration')\n",
    "ax.set_ylabel('$R_g$ ($\\\\AA$)')\n",
    "ax.legend(bbox_to_anchor=(1,1),frameon=False,fontsize=10)\n",
    "plt.tight_layout()\n",
    "fig_save = True\n",
    "fig_name = 'fig4/rg_overparam'\n",
    "if fig_save:\n",
    "    print(save_dir +  fig_name)\n",
    "    save_figure(fig, fig_file=save_dir+fig_name)\n",
    "plt.show()"
   ]
  },
  {
   "cell_type": "code",
   "execution_count": null,
   "metadata": {},
   "outputs": [],
   "source": [
    "fig, ax = plt.subplots(1,1,figsize=(4,2))\n",
    "make_nice_axis(ax)\n",
    "ax.plot(data_fig4_overparam['iter'],data_fig4_overparam['min_disorder'],c='grey',ls='--',label='constraint')\n",
    "ax.plot(data_fig4_overparam['iter'],data_fig4_overparam['disorder'],c='k',label='simulation')\n",
    "ax.set_xlabel('Iteration')\n",
    "ax.set_ylabel('Disorder')\n",
    "ax.legend(bbox_to_anchor=(1,0.6),frameon=False,fontsize=10)\n",
    "plt.tight_layout()\n",
    "fig_save = True\n",
    "fig_name = 'fig4/disorder_overparam'\n",
    "if fig_save:\n",
    "    print(save_dir +  fig_name)\n",
    "    save_figure(fig, fig_file=save_dir+fig_name)\n",
    "plt.show()"
   ]
  },
  {
   "cell_type": "markdown",
   "metadata": {},
   "source": [
    "### constrained vs unconstrained"
   ]
  },
  {
   "cell_type": "code",
   "execution_count": null,
   "metadata": {},
   "outputs": [],
   "source": [
    "file_fig4_mp_rg = figures_data_dir + 'fig4/mp_checks.csv'\n",
    "data_fig4_mp_rg = pd.read_csv(file_fig4_mp_rg)\n",
    "\n",
    "file_fig4_op_rg = figures_data_dir +  'fig4/overparam_checks.csv'\n",
    "data_fig4_op_rg = pd.read_csv(file_fig4_op_rg)"
   ]
  },
  {
   "cell_type": "code",
   "execution_count": null,
   "metadata": {},
   "outputs": [],
   "source": [
    "targets = [12.5,15.0,17.5,20,25]\n",
    "fig,ax = plt.subplots(1,1,figsize=(4,3))\n",
    "make_nice_axis(ax)\n",
    "for target in targets[0:1]:\n",
    "    ax.errorbar(target,data_fig4_mp_rg[data_fig4_mp_rg['target']==target]['disorder'].mean(),yerr=data_fig4_mp_rg[data_fig4_mp_rg['target']==target]['disorder'].std(),fmt='o',color='k',label='constrained')\n",
    "    ax.errorbar(target,data_fig4_op_rg[data_fig4_op_rg['target']==target]['disorder'].mean(),yerr=data_fig4_op_rg[data_fig4_op_rg['target']==target]['disorder'].std(),fmt='o',color='grey',label='unconstrained')\n",
    "\n",
    "for target in targets[1:]:\n",
    "    ax.errorbar(target,data_fig4_mp_rg[data_fig4_mp_rg['target']==target]['disorder'].mean(),yerr=data_fig4_mp_rg[data_fig4_mp_rg['target']==target]['disorder'].std(),fmt='o',color='k')\n",
    "    ax.errorbar(target,data_fig4_op_rg[data_fig4_op_rg['target']==target]['disorder'].mean(),yerr=data_fig4_op_rg[data_fig4_op_rg['target']==target]['disorder'].std(),fmt='o',color='grey')\n",
    "\n",
    "ax.hlines(0.8,10,25,linestyles=(0,(5,5)),color='grey',label='target',lw=1.0)\n",
    "\n",
    "ax.legend(bbox_to_anchor=(0.5,0.4),frameon=False,fontsize=10)\n",
    "ax.set_ylabel('% Disorder')\n",
    "ax.set_xlabel('$R_g$ ($\\\\AA$)')\n",
    "ax.set_xticks([10,15,20,25])\n",
    "plt.tight_layout()\n",
    "fig_save = True\n",
    "fig_name = 'fig4/disorder_mp_vs_op'\n",
    "if fig_save:\n",
    "    print(save_dir +  fig_name)\n",
    "    save_figure(fig, fig_file=save_dir+fig_name)\n",
    "plt.show()"
   ]
  },
  {
   "cell_type": "markdown",
   "metadata": {},
   "source": [
    "### charge constrained notebook"
   ]
  },
  {
   "cell_type": "code",
   "execution_count": null,
   "metadata": {},
   "outputs": [],
   "source": [
    "file_fig4_cc_rg = figures_data_dir + 'fig4/charge-constrained/rg17.5/plot_data.csv'\n",
    "data_fig4_cc_rg = pd.read_csv(file_fig4_cc_rg)"
   ]
  },
  {
   "cell_type": "code",
   "execution_count": null,
   "metadata": {},
   "outputs": [],
   "source": [
    "fig,ax = plt.subplots(1,1,figsize=(4,3))\n",
    "make_nice_axis(ax)\n",
    "ax.plot(data_fig4_cc_rg['iter'],data_fig4_cc_rg['rg'],c='k',label='simulation')\n",
    "ax.hlines(17.5,0,200,linestyles=(0,(5,5)),color='grey',label='target',lw=1.0)\n",
    "ax.set_xlabel('Iteration')\n",
    "ax.set_ylabel('$R_g$ ($\\\\AA$)')\n",
    "ax.legend(bbox_to_anchor=(1,1),frameon=False,fontsize=10)\n",
    "plt.tight_layout()\n",
    "fig_save = True\n",
    "fig_name = 'fig4/cc_rg'\n",
    "if fig_save:\n",
    "    print(save_dir +  fig_name)\n",
    "    save_figure(fig, fig_file=save_dir+fig_name)\n",
    "plt.show()"
   ]
  },
  {
   "cell_type": "code",
   "execution_count": null,
   "metadata": {},
   "outputs": [],
   "source": [
    "fig, ax = plt.subplots(2,1,figsize=(4,3))\n",
    "make_nice_axis(ax[0])\n",
    "make_nice_axis(ax[1])\n",
    "\n",
    "ax[0].hlines(0.5,0,205,linestyles=(0,(5,5)),color='grey',label='target constraint',lw=1.0)\n",
    "ax[0].plot(data_fig4_cc_rg['iter'],data_fig4_cc_rg['pos_charge_ratio'],c='blue' ,label='+ve charge ratio',lw=0.5)\n",
    "ax[1].hlines(0.5,0,205,linestyles=(0,(5,5)),color='grey',label='target constraint',lw=1.0)\n",
    "\n",
    "ax[1].plot(data_fig4_cc_rg['iter'],data_fig4_cc_rg['neg_charge_ratio'],c='red',label='-ve charge ratio',lw=0.5)\n",
    "\n",
    "ax[1].set_xlabel('Iteration')\n",
    "ax[0].set_ylabel('$f_{+ve}$')\n",
    "ax[1].set_ylabel('$f_{-ve}$')\n",
    "\n",
    "# ax.legend(bbox_to_anchor=(0.4,0.55),frameon=False,fontsize=10)\n",
    "plt.tight_layout()\n",
    "fig_save = True\n",
    "fig_name = 'fig4/cc_charge_ratios'\n",
    "if fig_save:\n",
    "    print(save_dir +  fig_name)\n",
    "    save_figure(fig, fig_file=save_dir+fig_name)\n",
    "plt.show()"
   ]
  },
  {
   "cell_type": "markdown",
   "metadata": {},
   "source": [
    "#### kappa vs rg"
   ]
  },
  {
   "cell_type": "code",
   "execution_count": null,
   "metadata": {},
   "outputs": [],
   "source": [
    "files_fig4_kappa = figures_data_dir + 'fig4/charge-constrained/kappas.csv'\n",
    "data_fig4_kappa = pd.read_csv(files_fig4_kappa)\n",
    "\n",
    "## Filter out the data points that have unphysical targets\n",
    "data_fig4_kappa = data_fig4_kappa[data_fig4_kappa['target_rg']<23]\n",
    "# Calculate the difference between the target and predicted $R_g$\n",
    "data_fig4_kappa['diff']= 100*np.abs(data_fig4_kappa['target_rg']-data_fig4_kappa['rg'])/np.abs(data_fig4_kappa['target_rg'])\n",
    "# Calculate extent of deviation from charge balance constraint\n",
    "data_fig4_kappa['diff_ratio'] = np.abs(data_fig4_kappa['neg_ratio']- 0.5) + np.abs(data_fig4_kappa['pos_ratio']-0.5)\n",
    "# Filter data by within charge balance of 10%\n",
    "filtered_data_kappa = data_fig4_kappa[data_fig4_kappa['diff_ratio']<0.05]"
   ]
  },
  {
   "cell_type": "code",
   "execution_count": null,
   "metadata": {},
   "outputs": [],
   "source": [
    "import matplotlib.lines as mlines\n",
    "\n",
    "fig,ax  =  plt.subplots(1,1,figsize=(4,3))\n",
    "make_nice_axis(ax)\n",
    "filtered_data = filtered_data_kappa.loc[filtered_data_kappa.groupby('target_rg')['diff'].idxmin()]\n",
    "\n",
    "ax.scatter(filtered_data['kappa'], filtered_data['rg'], c='k',s=10)\n",
    "ax.set_ylabel('$R_g$ ($\\\\AA$)')\n",
    "ax.set_xlabel('$\\\\kappa$')\n",
    "\n",
    "\n",
    "# Function to plot sequence as colored lines\n",
    "def plot_sequence(seq, x, y):\n",
    "    for i, aa in enumerate(seq):\n",
    "        if i < len(seq) - 1:\n",
    "            color = 'blue' if aa in ['R', 'K'] else 'red' if aa in ['E', 'D'] else 'black'\n",
    "            line = mlines.Line2D([x, x + 0.0075], [y, y], color=color, linewidth=2)\n",
    "            plt.gca().add_line(line)\n",
    "            x += 0.0075\n",
    "\n",
    "y_pos = [13.95,21.24]\n",
    "x_pos = [0.4,0.1]\n",
    " \n",
    "count= 0\n",
    "# Annotate the points with sequences as colored lines\n",
    "plot_sequence(filtered_data['opt_seq'].values[0], x_pos[count],y_pos[count])\n",
    "count=1\n",
    "plot_sequence(filtered_data['opt_seq'].values[-1], x_pos[count],y_pos[count])\n",
    "\n",
    "ax.set_ylim(13,22.5)\n",
    "ax.set_xlim(0,1)\n",
    "ax.set_yticks([14,18,22])\n",
    "ax.set_xticks([0,0.25,0.5,0.75,1])\n",
    "plt.tight_layout()\n",
    "fig_save = True\n",
    "fig_name = 'fig4e/cc_kappa_rg_just_extremes_seq'\n",
    "if fig_save:\n",
    "    print(save_dir + fig_name)\n",
    "    save_figure(fig, fig_file=save_dir+fig_name)\n",
    "plt.show()"
   ]
  },
  {
   "cell_type": "markdown",
   "metadata": {},
   "source": [
    "## Figure 5"
   ]
  },
  {
   "cell_type": "markdown",
   "metadata": {},
   "source": [
    "### Sensor design text for loss"
   ]
  },
  {
   "cell_type": "code",
   "execution_count": null,
   "metadata": {},
   "outputs": [],
   "source": [
    "fig, ax = plt.subplots(1,1,figsize=(3,2))\n",
    "make_nice_axis(ax)\n",
    "\n",
    "# Define the text with LaTeX formatting\n",
    "text1 = r'$L_{\\text{expander}} = R_{g}^{\\text{low}} - R_{g}^{\\text{high}}$'\n",
    "text2 = r'$L_{\\text{contractor}} = R_{g}^{\\text{high}} - R_{g}^{\\text{low}}$'\n",
    "\n",
    "# Plot the text on the figure\n",
    "ax.text(0.5, 0.62, text1, fontsize=14, ha='center', va='center')\n",
    "ax.text(0.5, 0.38, text2, fontsize=14, ha='center', va='center')\n",
    "\n",
    "# Remove axes\n",
    "ax.axis('off')\n",
    "\n",
    "plt.tight_layout()\n",
    "fig_save = True\n",
    "fig_name = 'fig5a/sensor_tests'\n",
    "if fig_save:\n",
    "    print(save_dir +  fig_name)\n",
    "    save_figure(fig, fig_file=save_dir+fig_name)\n",
    "plt.show()"
   ]
  },
  {
   "cell_type": "markdown",
   "metadata": {},
   "source": [
    "### Salt contractor"
   ]
  },
  {
   "cell_type": "code",
   "execution_count": null,
   "metadata": {},
   "outputs": [],
   "source": [
    "file_fig_salt_contractor_low= figures_data_dir + 'fig5/contractor/lo/contact_map_distances.npy'\n",
    "file_fig_salt_contractor_high= figures_data_dir + 'fig5/contractor/hi/contact_map_distances.npy'\n",
    "fig5_contractor_low =np.load(file_fig_salt_contractor_low)\n",
    "fig5_contractor_high =np.load(file_fig_salt_contractor_high)\n",
    "fig5_ideal_normalization = np.zeros_like(fig5_contractor_low)\n",
    "for i in range(fig5_contractor_low.shape[0]):\n",
    "    for j in range(fig5_contractor_low.shape[1]):\n",
    "            fig5_ideal_normalization[i, j] = 3.81*np.abs(i - j) ** 0.5\n",
    "            fig5_ideal_normalization[j, i] = 3.81*np.abs(i - j) ** 0.5\n"
   ]
  },
  {
   "cell_type": "code",
   "execution_count": null,
   "metadata": {},
   "outputs": [],
   "source": [
    "fig,ax =plt.subplots(1,1,figsize=(4,3))\n",
    "make_nice_axis(ax)\n",
    "Rg_low = 23.1\n",
    "Rg_high = 14.1\n",
    "salt_low = 150\n",
    "salt_high = 450\n",
    "\n",
    "ax.scatter(0,Rg_low,s=50,c='k',label='low salt')\n",
    "ax.scatter(1,Rg_high,s=50,c='k',label='high salt')\n",
    "ax.set_xticks([0,1])\n",
    "ax.set_xlim(-0.5,1.5)\n",
    "ax.set_ylim(12,24)\n",
    "ax.set_yticks([12,18,24])\n",
    "ax.set_xticklabels(['Low salt (150mM)','High salt (450mM)'])\n",
    "\n",
    "ax.set_ylabel('$R_g$ ($\\\\AA$)')\n",
    "plt.tight_layout()\n",
    "fig_save = True\n",
    "fig_name = 'fig5a/sensor_tests_contractor'\n",
    "if fig_save:\n",
    "    print(save_dir +  fig_name)\n",
    "    save_figure(fig, fig_file=save_dir+fig_name)\n",
    "plt.show()"
   ]
  },
  {
   "cell_type": "code",
   "execution_count": null,
   "metadata": {},
   "outputs": [],
   "source": [
    "sequence = 'MHHHHHHWYYWRWRRRRRRRRRRRRRRRWRWRRRRRRRRRRWWWWRRRRR'\n",
    "\n",
    "fig, ax = plt.subplots(1,2,figsize=(5,3))\n",
    "for axis in ax:\n",
    "    make_nice_axis(axis)\n",
    "\n",
    "f = ax[0].imshow(np.log2(fig5_ideal_normalization/fig5_contractor_low),cmap='coolwarm',vmin=-1.2,vmax=1.2)\n",
    "cbar1 = fig.colorbar(f,ax=ax[0],fraction=0.046, pad=0.04)\n",
    "cbar1.set_ticks([-1, 0, 1])  # Set colorbar ticks\n",
    "ax[0].set_title('Low Salt (150mM)')  # Add title to the first plot\n",
    "\n",
    "f = ax[1].imshow(np.log2(fig5_ideal_normalization/fig5_contractor_high),cmap='coolwarm',vmin=-1.2,vmax=1.2)\n",
    "cbar2= fig.colorbar(f,ax=ax[1],fraction=0.046, pad=0.04)\n",
    "cbar2.set_ticks([-1, 0, 1])  # Set colorbar ticks\n",
    "ax[1].set_title('High Salt (450mM)')  # Add title to the second plot\n",
    "\n",
    "# Set colorbar title\n",
    "# cbar1.set_label(r'$\\log_2(\\mathrm{obs/exp})$', labelpad=10)\n",
    "cbar2.set_label(r'$\\log_2(\\mathrm{obs/exp})$', labelpad=10)\n",
    "\n",
    "\n",
    "    # ax[1].text(i, -1, aa, fontsize=12, color=aa_colors[aa], ha='center', va='center')\n",
    "\n",
    "\n",
    "# Remove the default tick labels\n",
    "for axis in ax:\n",
    "    axis.set_xticklabels([])\n",
    "    axis.set_yticklabels([])\n",
    "    # Remove the tick marks\n",
    "    axis.tick_params(axis='both', which='both', length=0)\n",
    "\n",
    "\n",
    "plt.tight_layout()\n",
    "fig_save = False\n",
    "fig_name = 'fig5/salt_contractors_low_high'\n",
    "if fig_save:\n",
    "    print(save_dir +  fig_name)\n",
    "    save_figure(fig, fig_file=save_dir+fig_name)\n",
    "plt.show()"
   ]
  },
  {
   "cell_type": "code",
   "execution_count": null,
   "metadata": {},
   "outputs": [],
   "source": [
    "# Create a new figure for the sequence text\n",
    "fig, ax = plt.subplots(1, 1, figsize=(4, 1))\n",
    "\n",
    "# Plot the sequence as text with colors\n",
    "for i, aa in enumerate(sequence[:25]):\n",
    "    ax.text(i, 0, aa, fontsize=12, color=aa_colors[aa], ha='center', va='center')\n",
    "\n",
    "for i, aa in enumerate(sequence[25:]):\n",
    "    ax.text(i, -0.05, aa, fontsize=12, color=aa_colors[aa], ha='center', va='center')\n",
    "\n",
    "ax.set_ylim(-0.05, 0.025)\n",
    "ax.set_xlim(-0.5, len(sequence)/2)\n",
    "# Remove axes\n",
    "ax.axis('off')\n",
    "plt.tight_layout()\n",
    "fig_save = True\n",
    "fig_name = 'fig5/salt_contractors_sequence'\n",
    "if fig_save:\n",
    "    print(save_dir +  fig_name)\n",
    "    save_figure(fig, fig_file=save_dir+fig_name)\n",
    "\n",
    "\n",
    "plt.show()"
   ]
  },
  {
   "cell_type": "markdown",
   "metadata": {},
   "source": [
    "### Salt Expander"
   ]
  },
  {
   "cell_type": "code",
   "execution_count": null,
   "metadata": {},
   "outputs": [],
   "source": [
    "file_fig_salt_expander_low= figures_data_dir + 'fig5/expander/lo/contact_map_distances.npy'\n",
    "file_fig_salt_expander_high= figures_data_dir + 'fig5/expander/hi/contact_map_distances.npy'\n",
    "fig5_expander_low =np.load(file_fig_salt_expander_low)\n",
    "fig5_expander_high =np.load(file_fig_salt_expander_high)\n",
    "fig5_ideal_normalization = np.zeros_like(fig5_expander_low)\n",
    "for i in range(fig5_expander_low.shape[0]):\n",
    "    for j in range(fig5_expander_low.shape[1]):\n",
    "            fig5_ideal_normalization[i, j] = 3.81*np.abs(i - j) ** 0.5\n",
    "            fig5_ideal_normalization[j, i] = 3.81*np.abs(i - j) ** 0.5\n"
   ]
  },
  {
   "cell_type": "code",
   "execution_count": null,
   "metadata": {},
   "outputs": [],
   "source": [
    "fig,ax =plt.subplots(1,1,figsize=(4,3))\n",
    "make_nice_axis(ax)\n",
    "Rg_low = 14.5\n",
    "Rg_high = 26.6\n",
    "salt_low = 150\n",
    "salt_high = 450\n",
    "\n",
    "ax.scatter(0,Rg_low,s=50,c='k',label='low salt')\n",
    "ax.scatter(1,Rg_high,s=50,c='k',label='high salt')\n",
    "ax.set_xticks([0,1])\n",
    "ax.set_xlim(-0.5,1.5)\n",
    "ax.set_ylim(10,30)\n",
    "ax.set_yticks([10,20,30])\n",
    "ax.set_xticklabels(['Low salt (150mM)','High salt (450mM)'])\n",
    "\n",
    "ax.set_ylabel('$R_g$ ($\\\\AA$)')\n",
    "plt.tight_layout()\n",
    "fig_save = True\n",
    "fig_name = 'fig5a/sensor_tests_expander'\n",
    "if fig_save:\n",
    "    print(save_dir +  fig_name)\n",
    "    save_figure(fig, fig_file=save_dir+fig_name)\n",
    "plt.show()"
   ]
  },
  {
   "cell_type": "code",
   "execution_count": null,
   "metadata": {},
   "outputs": [],
   "source": [
    "sequence = 'MHHHHHHKKRKRKRRPRRPPWPPWWPPWWWPPPEEEEDDDDDDDEDEDDD'\n",
    "\n",
    "fig, ax = plt.subplots(1,2,figsize=(5,3))\n",
    "for axis in ax:\n",
    "    make_nice_axis(axis)\n",
    "\n",
    "f = ax[0].imshow(np.log2(fig5_ideal_normalization/fig5_expander_low),cmap='coolwarm',vmin=-1.2,vmax=1.2)\n",
    "cbar1 = fig.colorbar(f,ax=ax[0],fraction=0.046, pad=0.04)\n",
    "cbar1.set_ticks([-1, 0, 1])  # Set colorbar ticks\n",
    "ax[0].set_title('Low Salt (150mM)')  # Add title to the first plot\n",
    "\n",
    "f = ax[1].imshow(np.log2(fig5_ideal_normalization/fig5_expander_high),cmap='coolwarm',vmin=-1.2,vmax=1.2)\n",
    "cbar2= fig.colorbar(f,ax=ax[1],fraction=0.046, pad=0.04)\n",
    "cbar2.set_ticks([-1, 0, 1])  # Set colorbar ticks\n",
    "ax[1].set_title('High Salt (450mM)')  # Add title to the second plot\n",
    "\n",
    "# Set colorbar title\n",
    "# cbar1.set_label(r'$\\log_2(\\mathrm{obs/exp})$', labelpad=10)\n",
    "cbar2.set_label(r'$\\log_2(\\mathrm{obs/exp})$', labelpad=10)\n",
    "\n",
    "# Remove the default tick labels\n",
    "for axis in ax:\n",
    "    axis.set_xticklabels([])\n",
    "    axis.set_yticklabels([])\n",
    "    # Remove the tick marks\n",
    "    axis.tick_params(axis='both', which='both', length=0)\n",
    "\n",
    "\n",
    "plt.tight_layout()\n",
    "fig_save = True\n",
    "fig_name = 'fig5/salt_expanders_low_high'\n",
    "if fig_save:\n",
    "    print(save_dir +  fig_name)\n",
    "    save_figure(fig, fig_file=save_dir+fig_name)\n",
    "plt.show()"
   ]
  },
  {
   "cell_type": "code",
   "execution_count": null,
   "metadata": {},
   "outputs": [],
   "source": [
    "sequence = 'MHHHHHHKKRKRKRRPRRPPWPPWWPPWWWPPPEEEEDDDDDDDEDEDDD'\n",
    "\n",
    "# Create a new figure for the sequence text\n",
    "fig, ax = plt.subplots(1, 1, figsize=(4, 1))\n",
    "\n",
    "# Plot the sequence as text with colors\n",
    "for i, aa in enumerate(sequence[:25]):\n",
    "    ax.text(i, 0, aa, fontsize=12, color=aa_colors[aa], ha='center', va='center')\n",
    "\n",
    "for i, aa in enumerate(sequence[25:]):\n",
    "    ax.text(i, -0.05, aa, fontsize=12, color=aa_colors[aa], ha='center', va='center')\n",
    "\n",
    "ax.set_ylim(-0.05, 0.025)\n",
    "ax.set_xlim(-0.5, len(sequence)/2)\n",
    "# Remove axes\n",
    "ax.axis('off')\n",
    "plt.tight_layout()\n",
    "fig_save = True\n",
    "fig_name = 'fig5/salt_expanders_sequence'\n",
    "if fig_save:\n",
    "    print(save_dir +  fig_name)\n",
    "    save_figure(fig, fig_file=save_dir+fig_name)\n",
    "\n",
    "\n",
    "plt.show()"
   ]
  },
  {
   "cell_type": "markdown",
   "metadata": {},
   "source": [
    "## Figure 6"
   ]
  },
  {
   "cell_type": "markdown",
   "metadata": {},
   "source": [
    "### Binding distance plot"
   ]
  },
  {
   "cell_type": "code",
   "execution_count": null,
   "metadata": {},
   "outputs": [],
   "source": [
    "file_fig6_fus = figures_data_dir +  'fig6/fuslc/opt/log/loss.txt'\n",
    "data_fig6_fus = pd.read_csv(file_fig6_fus,sep=' ',header=None)\n",
    "\n",
    "file_fig6_polyR = figures_data_dir +  'fig6/polyR/opt/log/dist.txt'\n",
    "data_fig6_polyR = pd.read_csv(file_fig6_polyR,sep=' ',header=None)"
   ]
  },
  {
   "cell_type": "code",
   "execution_count": null,
   "metadata": {},
   "outputs": [],
   "source": [
    "f,ax = plt.subplots(1,1,figsize=(4,3))\n",
    "make_nice_axis(ax)\n",
    "ax.plot(data_fig6_fus.index.values,data_fig6_fus.values,c='k')\n",
    "ax.set_xlabel('Iteration')\n",
    "ax.set_ylabel('Interstrand distance ($\\\\AA$)')\n",
    "plt.tight_layout()\n",
    "fig_save = True\n",
    "fig_name = 'fig6/fuslc_binder'\n",
    "if fig_save:\n",
    "    print(save_dir +  fig_name)\n",
    "    save_figure(f, fig_file=save_dir+fig_name)\n",
    "plt.show()"
   ]
  },
  {
   "cell_type": "code",
   "execution_count": null,
   "metadata": {},
   "outputs": [],
   "source": [
    "f,ax = plt.subplots(1,1,figsize=(4,3))\n",
    "make_nice_axis(ax)\n",
    "ax.plot(data_fig6_polyR.index.values,data_fig6_polyR.values,c='k')\n",
    "ax.set_xlabel('Iteration')\n",
    "ax.set_ylabel('polyR-binder dist ($\\\\AA$)')\n",
    "plt.tight_layout()\n",
    "fig_save = True\n",
    "fig_name = 'fig6b/polyR_binder'\n",
    "if fig_save:\n",
    "    print(save_dir + fig_name)\n",
    "    save_figure(f, fig_file=save_dir+fig_name)\n",
    "plt.show()"
   ]
  },
  {
   "cell_type": "markdown",
   "metadata": {},
   "source": [
    "### Binder contact frequencies"
   ]
  },
  {
   "cell_type": "code",
   "execution_count": null,
   "metadata": {},
   "outputs": [],
   "source": [
    "fus_binder_contact_frequency_file = figures_data_dir + 'fig6/fuslc/forward-periodic/b500/contact_map_distances.npy'\n",
    "\n",
    "fig6_loop_fus =np.load(fus_binder_contact_frequency_file)\n",
    "fig6_ideal_normalization = np.zeros_like(fig6_loop_fus)\n",
    "for i in range(fig6_loop_fus.shape[0]):\n",
    "    for j in range(fig6_loop_fus.shape[1]):\n",
    "            fig6_ideal_normalization[i, j] = 3.81*np.abs(i - j) ** 0.5\n",
    "            fig6_ideal_normalization[j, i] = 3.81*np.abs(i - j) ** 0.5\n",
    "fig, ax = plt.subplots(1,1,figsize=(4,3))\n",
    "make_nice_axis(ax)\n",
    "f = ax.imshow(np.log2(fig6_ideal_normalization/fig6_loop_fus),cmap='coolwarm',vmin=-2,vmax=2)\n",
    "cbar2= fig.colorbar(f,ax=ax,fraction=0.046, pad=0.04)\n",
    "cbar2.set_ticks([-1, 0, 1])  # Set colorbar ticks\n",
    "ax.set_title('FUS-binder')  # Add title to the second plot\n",
    "\n",
    "cbar2.set_label(r'$\\log_2(\\mathrm{obs/exp})$', labelpad=10)\n",
    "\n",
    "\n",
    "# Remove the default tick labels\n",
    "ax.set_xticklabels([])\n",
    "ax.set_yticklabels([])\n",
    "# Remove the tick marks\n",
    "ax.tick_params(axis='both', which='both', length=0)\n",
    "\n",
    "\n",
    "plt.tight_layout()\n",
    "fig_save = True\n",
    "fig_name = 'fig6d/fus_binder_contact_frequency_normalized_b500'\n",
    "if fig_save:\n",
    "    print(save_dir +  fig_name)\n",
    "    save_figure(fig, fig_file=save_dir+fig_name)\n",
    "plt.show()"
   ]
  },
  {
   "cell_type": "code",
   "execution_count": null,
   "metadata": {},
   "outputs": [],
   "source": [
    "fus_binder_contact_frequency_file = figures_data_dir + 'fig6/polyR/forward-periodic/b500/contact_map_distances.npy'\n",
    "fig6_loop_fus =np.load(fus_binder_contact_frequency_file)\n",
    "fig6_ideal_normalization = np.zeros_like(fig6_loop_fus)\n",
    "for i in range(fig6_loop_fus.shape[0]):\n",
    "    for j in range(fig6_loop_fus.shape[1]):\n",
    "            fig6_ideal_normalization[i, j] = 3.81*np.abs(i - j) ** 0.5\n",
    "            fig6_ideal_normalization[j, i] = 3.81*np.abs(i - j) ** 0.5\n",
    "fig, ax = plt.subplots(1,1,figsize=(4,3))\n",
    "make_nice_axis(ax)\n",
    "f = ax.imshow(np.log2(fig6_ideal_normalization/fig6_loop_fus),cmap='coolwarm',vmin=-2,vmax=2)\n",
    "cbar2= fig.colorbar(f,ax=ax,fraction=0.046, pad=0.04)\n",
    "cbar2.set_ticks([-1, 0, 1])  # Set colorbar ticks\n",
    "ax.set_title('polyR-binder')  # Add title to the second plot\n",
    "\n",
    "cbar2.set_label(r'$\\log_2(\\mathrm{obs/exp})$', labelpad=10)\n",
    "\n",
    "\n",
    "# Remove the default tick labels\n",
    "ax.set_xticklabels([])\n",
    "ax.set_yticklabels([])\n",
    "# Remove the tick marks\n",
    "ax.tick_params(axis='both', which='both', length=0)\n",
    "\n",
    "\n",
    "plt.tight_layout()\n",
    "fig_save = True\n",
    "fig_name = 'fig6d/polyRb500_binder_contact_frequency_normalized'\n",
    "if fig_save:\n",
    "    print(save_dir +  fig_name)\n",
    "    save_figure(fig, fig_file=save_dir+fig_name)\n",
    "plt.show()"
   ]
  },
  {
   "cell_type": "code",
   "execution_count": null,
   "metadata": {},
   "outputs": [],
   "source": []
  },
  {
   "cell_type": "code",
   "execution_count": null,
   "metadata": {},
   "outputs": [],
   "source": []
  }
 ],
 "metadata": {
  "kernelspec": {
   "display_name": "Python 3 (ipykernel)",
   "language": "python",
   "name": "python3"
  },
  "language_info": {
   "codemirror_mode": {
    "name": "ipython",
    "version": 3
   },
   "file_extension": ".py",
   "mimetype": "text/x-python",
   "name": "python",
   "nbconvert_exporter": "python",
   "pygments_lexer": "ipython3",
   "version": "3.12.0"
  }
 },
 "nbformat": 4,
 "nbformat_minor": 4
}
